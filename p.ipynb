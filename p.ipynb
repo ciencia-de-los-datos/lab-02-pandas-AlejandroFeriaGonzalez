{
 "cells": [
  {
   "cell_type": "code",
   "execution_count": 1,
   "metadata": {},
   "outputs": [],
   "source": [
    "import pandas as pd\n",
    "\n",
    "tbl0 = pd.read_csv(\"tbl0.tsv\", sep=\"\\t\")\n",
    "tbl1 = pd.read_csv(\"tbl1.tsv\", sep=\"\\t\")\n",
    "tbl2 = pd.read_csv(\"tbl2.tsv\", sep=\"\\t\")"
   ]
  },
  {
   "cell_type": "code",
   "execution_count": 2,
   "metadata": {},
   "outputs": [],
   "source": [
    "import preguntas"
   ]
  },
  {
   "cell_type": "code",
   "execution_count": 11,
   "metadata": {},
   "outputs": [],
   "source": [
    "assert preguntas.pregunta_09().columns.tolist() == [\n",
    "    \"_c0\",\n",
    "    \"_c1\",\n",
    "    \"_c2\",\n",
    "    \"_c3\",\n",
    "    \"year\",\n",
    "]\n",
    "assert preguntas.pregunta_09().shape == (40, 5)\n",
    "assert preguntas.pregunta_09().year.head().tolist() == [\n",
    "    \"1999\",\n",
    "    \"1999\",\n",
    "    \"1998\",\n",
    "    \"1999\",\n",
    "    \"1999\",\n",
    "]\n",
    "assert preguntas.pregunta_09().year.tail().tolist() == [\n",
    "    \"1999\",\n",
    "    \"1997\",\n",
    "    \"1997\",\n",
    "    \"1999\",\n",
    "    \"1998\",\n",
    "]"
   ]
  }
 ],
 "metadata": {
  "kernelspec": {
   "display_name": "Python 3",
   "language": "python",
   "name": "python3"
  },
  "language_info": {
   "codemirror_mode": {
    "name": "ipython",
    "version": 3
   },
   "file_extension": ".py",
   "mimetype": "text/x-python",
   "name": "python",
   "nbconvert_exporter": "python",
   "pygments_lexer": "ipython3",
   "version": "3.12.2"
  }
 },
 "nbformat": 4,
 "nbformat_minor": 2
}
